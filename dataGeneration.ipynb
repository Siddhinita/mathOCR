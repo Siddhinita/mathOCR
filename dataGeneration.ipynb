{
 "cells": [
  {
   "cell_type": "code",
   "execution_count": 1,
   "metadata": {},
   "outputs": [
    {
     "name": "stderr",
     "output_type": "stream",
     "text": [
      "Using TensorFlow backend.\n"
     ]
    }
   ],
   "source": [
    "from keras.datasets import mnist\n",
    "import numpy as np\n",
    "import matplotlib.pyplot as plt\n",
    "import numpy as np\n",
    "import PIL\n",
    "from imgaug import augmenters as iaa\n",
    "from scipy import misc\n",
    "import imgaug as ia\n",
    "import os\n",
    "from tqdm import tqdm\n",
    "import cv2\n",
    "import keras\n",
    "from keras.preprocessing.image import ImageDataGenerator\n",
    "import random as rand\n"
   ]
  },
  {
   "cell_type": "code",
   "execution_count": 2,
   "metadata": {
    "collapsed": true
   },
   "outputs": [],
   "source": [
    "#x_train contains 60,000 images of shape=(28,28)\n",
    "(x_train, y_train), (x_test, y_test) = mnist.load_data(\"./data\")\n",
    "#np.unique(x_train[0])"
   ]
  },
  {
   "cell_type": "code",
   "execution_count": 3,
   "metadata": {
    "collapsed": true
   },
   "outputs": [],
   "source": [
    "def getBox(im):\n",
    "    out=np.argwhere(im==255)\n",
    "    if(len(out)==0):\n",
    "        return 0,0,0,0\n",
    "    else:\n",
    "        left=np.min(out[:,1])\n",
    "        bottom=np.max(out[:,0])\n",
    "        top=np.min(out[:,0])\n",
    "        right=np.max(out[:,1])\n",
    "        \n",
    "        return left,top,right,bottom"
   ]
  },
  {
   "cell_type": "code",
   "execution_count": 4,
   "metadata": {
    "collapsed": true
   },
   "outputs": [],
   "source": [
    "boxes=[]\n",
    "for img in x_train:\n",
    "    temp_img=np.zeros(shape=(28,28))\n",
    "    temp_img[img>127]=255\n",
    "    \n",
    "    box=getBox(temp_img)\n",
    "    boxes.append([box[0],box[1],box[2],box[3]])\n",
    "boxes=np.array(boxes,dtype=np.object)"
   ]
  },
  {
   "cell_type": "code",
   "execution_count": 5,
   "metadata": {
    "collapsed": true
   },
   "outputs": [],
   "source": [
    "x_train=255-x_train\n",
    "\n"
   ]
  },
  {
   "cell_type": "code",
   "execution_count": 6,
   "metadata": {
    "collapsed": true
   },
   "outputs": [],
   "source": [
    "#rotate the images in range -45 to 45\n",
    "def Augment1(images,boxes):\n",
    "    bb_on_images = []\n",
    "    for bb in boxes:\n",
    "        bb_on_images.append(ia.BoundingBoxesOnImage([ia.BoundingBox(x1=bb[0],y1=bb[1],x2=bb[2],y2=bb[3])], shape=(28,28)))\n",
    "    \n",
    "\n",
    "    aug = iaa.Sequential([\n",
    "    iaa.Affine(rotate=(-20,20),mode=\"constant\",cval=255)])\n",
    "    seq_det = aug.to_deterministic()\n",
    "\n",
    "    \n",
    "    image_aug = seq_det.augment_images(images)\n",
    "    bbs_aug = seq_det.augment_bounding_boxes(bb_on_images)\n",
    "    for j in range(len(bbs_aug)):\n",
    "        bbs_aug[j]=bbs_aug[j].remove_out_of_image().cut_out_of_image()\n",
    "\n",
    "    return image_aug,bbs_aug,bb_on_images\n",
    "        \n"
   ]
  },
  {
   "cell_type": "code",
   "execution_count": 7,
   "metadata": {
    "collapsed": true
   },
   "outputs": [],
   "source": [
    "#blur\n",
    "def Augment2(images,boxes):\n",
    "    aug=iaa.OneOf([\n",
    "                iaa.GaussianBlur((0, 3.0)),\n",
    "                iaa.AverageBlur(k=(2, 7)),\n",
    "                iaa.MedianBlur(k=(3, 11))])\n",
    "\n",
    "    \n",
    "    seq_det = aug.to_deterministic()\n",
    "    \n",
    "\n",
    "    \n",
    "    image_aug = seq_det.augment_images(images)\n",
    "    bbs_aug = seq_det.augment_bounding_boxes(boxes)\n",
    "    \n",
    "    #for j in range(len(bbs_aug)):\n",
    "        #bbs_aug[j]=bbs_aug[j].remove_out_of_image().cut_out_of_image()\n",
    "\n",
    "    return image_aug,bbs_aug\n",
    "    "
   ]
  },
  {
   "cell_type": "code",
   "execution_count": 8,
   "metadata": {
    "collapsed": true
   },
   "outputs": [],
   "source": [
    "#Either blur or sharpen\n",
    "def Augment3(images,boxes):\n",
    "    \n",
    "    aug=iaa.OneOf([\n",
    "                iaa.Sharpen(alpha=(0, 1.0), lightness=(0.75, 1.5)),\n",
    "\n",
    "                iaa.Emboss(alpha=(0, 1.0), strength=(0, 2.0))])\n",
    "    seq_det = aug.to_deterministic()\n",
    "\n",
    "    \n",
    "    image_aug = seq_det.augment_images(images)\n",
    "    bbs_aug = seq_det.augment_bounding_boxes(boxes)\n",
    "    return image_aug,bbs_aug\n",
    "    \n"
   ]
  },
  {
   "cell_type": "code",
   "execution_count": 9,
   "metadata": {
    "collapsed": true
   },
   "outputs": [],
   "source": [
    "#insert Gaussian noise\n",
    "def Augment4(images,boxes):\n",
    "    aug=iaa.Sequential(iaa.AdditiveGaussianNoise(\n",
    "                    loc=0, scale=(0.0, 0.05*255), per_channel=0.5\n",
    "                ))\n",
    "    seq_det = aug.to_deterministic()\n",
    "\n",
    "    \n",
    "    image_aug = seq_det.augment_images(images)\n",
    "    bbs_aug = seq_det.augment_bounding_boxes(boxes)\n",
    "    return image_aug,bbs_aug\n",
    "\n"
   ]
  },
  {
   "cell_type": "code",
   "execution_count": 10,
   "metadata": {
    "collapsed": true
   },
   "outputs": [],
   "source": [
    "batch_size=10\n",
    "image_all=[]\n",
    "box_all=[]\n",
    "def Augment_main():\n",
    "\n",
    "    for i in range(0,x_train.shape[0],batch_size):\n",
    "        if(batch_size+i>=x_train.shape[0]):\n",
    "            batch_images=x_train[i:x_train.shape[0]]\n",
    "            batch_boxes=boxes[i:x_train.shape[0]]\n",
    "        batch_images=x_train[i:batch_size+i]\n",
    "        batch_boxes=boxes[i:batch_size+i]\n",
    "        image_aug,bbs_aug,bb_on_images=Augment1(batch_images,batch_boxes)\n",
    "        #print(bb_on_images)\n",
    "        #print(bbs_aug)\n",
    "        img1=np.concatenate((batch_images,image_aug),axis=0)\n",
    "        bb_on_images.extend(bbs_aug)\n",
    "        box1=bb_on_images\n",
    "        image_aug_p1,bbs_aug_p1=Augment2(img1,box1)\n",
    "        #print(image_aug,bbs_aug)\n",
    "        image_aug_p2,bbs_aug_p2=Augment3(img1,box1)\n",
    "        img3=np.concatenate((img1,image_aug_p1,image_aug_p2),axis=0)\n",
    "        box1.extend(bbs_aug_p1)\n",
    "        box1.extend(bbs_aug_p2)\n",
    "        box3=box1\n",
    "        image_aug,bbs_aug=Augment4(img3,box3)\n",
    "        img4=np.concatenate((img3,image_aug),axis=0)\n",
    "        box3.extend(bbs_aug)\n",
    "        box4=box3\n",
    "        \n",
    "        for j in range(len(box4)):\n",
    "            b=[]\n",
    "            final_boxes=[]\n",
    "            b.append(box4[j].bounding_boxes[0].x1)\n",
    "            b.append(box4[j].bounding_boxes[0].y1)\n",
    "            b.append(box4[j].bounding_boxes[0].x2)\n",
    "            b.append(box4[j].bounding_boxes[0].y2)\n",
    "            final_boxes.append(y_train[j%batch_size])\n",
    "            final_boxes.extend(b)\n",
    "            box_all.append(final_boxes)\n",
    "        image_all.extend(img4)\n",
    "            \n",
    "    return image_all,box_all\n",
    "        "
   ]
  },
  {
   "cell_type": "code",
   "execution_count": 11,
   "metadata": {
    "collapsed": true,
    "scrolled": true
   },
   "outputs": [],
   "source": [
    "#calling the main function\n",
    "image_all,box_all=Augment_main()"
   ]
  },
  {
   "cell_type": "code",
   "execution_count": 16,
   "metadata": {
    "collapsed": true
   },
   "outputs": [],
   "source": [
    "image_all=np.array(image_all)\n",
    "box_all=np.array(box_all)"
   ]
  },
  {
   "cell_type": "code",
   "execution_count": 17,
   "metadata": {
    "collapsed": true
   },
   "outputs": [],
   "source": [
    "datagen = ImageDataGenerator()\n",
    "batch_size_per_sheet=64\n",
    "image_all=np.reshape(image_all,(image_all.shape[0],28,28,1))\n",
    "\n",
    "\n",
    "data_generator=datagen.flow(image_all,box_all,save_to_dir=\"./test\",shuffle=True,batch_size=batch_size_per_sheet)\n"
   ]
  },
  {
   "cell_type": "code",
   "execution_count": 18,
   "metadata": {
    "collapsed": true
   },
   "outputs": [],
   "source": [
    "sheet_no=10\n",
    "sheet_size=320\n",
    "threshold=200\n"
   ]
  },
  {
   "cell_type": "code",
   "execution_count": 28,
   "metadata": {},
   "outputs": [],
   "source": [
    "for i in range(sheet_no):\n",
    "    sheet=np.full((sheet_size,sheet_size),255)\n",
    "    f=open(\"sheet_\"+str(i)+\".txt\",\"w\")\n",
    "    output=next(data_generator)\n",
    "    img=output[0]\n",
    "    labels=output[1]\n",
    "    left_margin=0\n",
    "    top_margin=0\n",
    "    b=0\n",
    "    top=0\n",
    "    bottom_margin=0\n",
    "    right_margin=0\n",
    "    for label,part in zip(labels,img):\n",
    "        part=np.squeeze(part)\n",
    "        cv2.imwrite(str(label)+\".jpg\",part)\n",
    "        part[part>threshold]=255\n",
    "\n",
    "        if(top_margin<sheet_size):\n",
    "\n",
    "            if(left_margin<sheet_size):\n",
    "                k=top_margin\n",
    "                left_add=rand.randint(20,25)\n",
    "                top_add=rand.randint(20,25)\n",
    "                left_margin=left_margin+left_add\n",
    "                top_margin=top_margin+top_add\n",
    "\n",
    "                l=label[0]\n",
    "                left=label[1]\n",
    "                top=label[2]\n",
    "                right=label[3]\n",
    "                bottom=label[4]\n",
    "                bottom_margin=top_margin+bottom -top\n",
    "                if(bottom_margin>sheet_size):\n",
    "                    break\n",
    "                right_margin=left_margin+right-left\n",
    "\n",
    "\n",
    "                #print(top,bottom,left,right)\n",
    "                #print(top_margin,bottom_margin,left_margin,right_margin)\n",
    "                if(right_margin<sheet_size):\n",
    "                    f.write(str(int(l))+\", \"+str(left_margin)+\", \"+str(top_margin)+\", \"+str(right_margin)+\", \"+str(bottom_margin)+\"\\n\")\n",
    "                    part_img=part[top:bottom,left:right]\n",
    "\n",
    "                    sheet[top_margin:bottom_margin,left_margin:right_margin]=part_img\n",
    "                    if(bottom_margin>=b):\n",
    "                        b=bottom_margin\n",
    "                    left_margin=right_margin\n",
    "                    top_margin=k\n",
    "                else:\n",
    "                    top_margin=b\n",
    "                    left_margin=0\n",
    "\n",
    "            else:\n",
    "                top_margin=b\n",
    "                left_margin=0\n",
    "    cv2.imwrite(str(i)+\"sheet.jpg\",sheet)\n",
    "    f.close()"
   ]
  },
  {
   "cell_type": "code",
   "execution_count": 29,
   "metadata": {},
   "outputs": [
    {
     "data": {
      "text/plain": [
       "True"
      ]
     },
     "execution_count": 29,
     "metadata": {},
     "output_type": "execute_result"
    }
   ],
   "source": [
    "#code to test the boxes\n",
    "which_sheet=4\n",
    "f=open(\"sheet_\"+str(which_sheet)+\".txt\",\"r\")\n",
    "test_sheet=cv2.imread(str(which_sheet)+\"sheet.jpg\")\n",
    "\n",
    "\n",
    "\n",
    "for line in f:\n",
    "    a=line[:-1].split(\", \")\n",
    "    \n",
    "    cv2.rectangle(test_sheet,((int(a[1]),int(a[2]))),(int(a[3]),int(a[4])),color=(90,90,90))\n",
    "f.close()\n",
    "cv2.imwrite(\"test\"+str(which_sheet)+\".jpg\",test_sheet)"
   ]
  },
  {
   "cell_type": "code",
   "execution_count": 25,
   "metadata": {
    "scrolled": false
   },
   "outputs": [
    {
     "data": {
      "image/png": "[encoded data removed]",
      "text/plain": [
       "<matplotlib.figure.Figure at 0x7f8a8a551e80>"
      ]
     },
     "metadata": {},
     "output_type": "display_data"
    },
    {
     "data": {
      "image/png": "[encoded data removed]",
      "text/plain": [
       "<matplotlib.figure.Figure at 0x7f8a8a167c88>"
      ]
     },
     "metadata": {},
     "output_type": "display_data"
    },
    {
     "data": {
      "image/png": "[encoded data removed]",
      "text/plain": [
       "<matplotlib.figure.Figure at 0x7f8a89f94320>"
      ]
     },
     "metadata": {},
     "output_type": "display_data"
    },
    {
     "data": {
      "image/png": "[encoded data removed]",
      "text/plain": [
       "<matplotlib.figure.Figure at 0x7f8a89f3a358>"
      ]
     },
     "metadata": {},
     "output_type": "display_data"
    },
    {
     "data": {
      "image/png": "[encoded data removed]",
      "text/plain": [
       "<matplotlib.figure.Figure at 0x7f8a8a0df3c8>"
      ]
     },
     "metadata": {},
     "output_type": "display_data"
    },
    {
     "data": {
      "image/png": "[encoded data removed]",
      "text/plain": [
       "<matplotlib.figure.Figure at 0x7f8a89c650f0>"
      ]
     },
     "metadata": {},
     "output_type": "display_data"
    },
    {
     "data": {
      "image/png": "[encoded data removed]",
      "text/plain": [
       "<matplotlib.figure.Figure at 0x7f8a89e18320>"
      ]
     },
     "metadata": {},
     "output_type": "display_data"
    },
    {
     "data": {
      "image/png": "[encoded data removed]",
      "text/plain": [
       "<matplotlib.figure.Figure at 0x7f8a8daaec88>"
      ]
     },
     "metadata": {},
     "output_type": "display_data"
    },
    {
     "data": {
      "image/png": "[encoded data removed]",
      "text/plain": [
       "<matplotlib.figure.Figure at 0x7f8a89d9e208>"
      ]
     },
     "metadata": {},
     "output_type": "display_data"
    },
    {
     "data": {
      "image/png": "[encoded data removed]",
      "text/plain": [
       "<matplotlib.figure.Figure at 0x7f8a8db1aac8>"
      ]
     },
     "metadata": {},
     "output_type": "display_data"
    },
    {
     "data": {
      "image/png": "[encoded data removed]",
      "text/plain": [
       "<matplotlib.figure.Figure at 0x7f8a8dba12b0>"
      ]
     },
     "metadata": {},
     "output_type": "display_data"
    },
    {
     "data": {
      "image/png": "[encoded data removed]",
      "text/plain": [
       "<matplotlib.figure.Figure at 0x7f8a8d9c12b0>"
      ]
     },
     "metadata": {},
     "output_type": "display_data"
    }
   ],
   "source": [
    "#test to see all different images produced for a particular image\n",
    "for j,i in enumerate(image_all):\n",
    "    if(j%10==0):\n",
    "        i=np.squeeze(i)\n",
    "        plt.imshow(i)\n",
    "        plt.show()"
   ]
  },
  {
   "cell_type": "code",
   "execution_count": null,
   "metadata": {
    "collapsed": true
   },
   "outputs": [],
   "source": []
  }
 ],
 "metadata": {
  "kernelspec": {
   "display_name": "Python 3",
   "language": "python",
   "name": "python3"
  },
  "language_info": {
   "codemirror_mode": {
    "name": "ipython",
    "version": 3
   },
   "file_extension": ".py",
   "mimetype": "text/x-python",
   "name": "python",
   "nbconvert_exporter": "python",
   "pygments_lexer": "ipython3",
   "version": "3.6.1"
  }
 },
 "nbformat": 4,
 "nbformat_minor": 2
}
